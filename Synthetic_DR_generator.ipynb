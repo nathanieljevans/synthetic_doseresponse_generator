{
 "cells": [
  {
   "cell_type": "markdown",
   "metadata": {},
   "source": [
    "# Synthetic Dose-Response Generator \n"
   ]
  },
  {
   "cell_type": "code",
   "execution_count": 2,
   "metadata": {
    "collapsed": false
   },
   "outputs": [
    {
     "data": {
      "application/javascript": [
       "IPython.OutputArea.prototype._should_scroll = function(lines) {\n",
       "    return false;\n",
       "}"
      ],
      "text/plain": [
       "<IPython.core.display.Javascript object>"
      ]
     },
     "metadata": {},
     "output_type": "display_data"
    }
   ],
   "source": [
    "%%javascript\n",
    "IPython.OutputArea.prototype._should_scroll = function(lines) {\n",
    "    return false;\n",
    "}"
   ]
  },
  {
   "cell_type": "code",
   "execution_count": 3,
   "metadata": {
    "collapsed": true
   },
   "outputs": [],
   "source": [
    "import numpy as np\n",
    "import pandas as pd\n",
    "from matplotlib import pyplot as plt\n",
    "import seaborn as sbn \n",
    "import datetime"
   ]
  },
  {
   "cell_type": "code",
   "execution_count": 4,
   "metadata": {
    "collapsed": true
   },
   "outputs": [],
   "source": [
    "# Synthetic data generator \n",
    "\n",
    "class hermetic_generator: \n",
    "    '''\n",
    "    This class is used to generate synthetic dataset of typical and atypical curves (containing hermetic regions).\n",
    "    \n",
    "    This generator assumes hermetic curves start high (cell viab probabilty = 1) then follow a logisitic shape during the inhibitory period followed a refractory/hermetic region wherin the curve shape is assumed to be linearly increasing.\n",
    "          ___\n",
    "      p  |    \\\n",
    "      r  |     \\         _/\n",
    "      o  |      \\      _/\n",
    "      b  |       \\____/\n",
    "         |___________________\n",
    "                dose \n",
    "                \n",
    "    The model parameters of inhibitory and hermetic regions are randomly sampled from all aproporiate values. \n",
    "    \n",
    "    # Good inuition for logistic regression parameter choices: http://mathworld.wolfram.com/LogisticEquation.html\n",
    "    \n",
    "    Inhibitory region model: Logisitic/Sigmoid \n",
    "    \n",
    "    P_i(c) =   1/(1+exp(-(b0 + b1*c)))\n",
    "        where, \n",
    "            c = concentration \n",
    "            b0 = intercept param. \n",
    "            b1 = slope param. \n",
    "            \n",
    "    Hermetic region model: linear increasing \n",
    "    \n",
    "    P_h(c) = m*c + b     for p_h(c) < 1 \n",
    "           = 1           otherwise\n",
    "        where, \n",
    "            m = slope > 0 \n",
    "            c = concentration \n",
    "            b = y intercept \n",
    "            \n",
    "    We expect there to be both biological and measurement variation which we will model as a Gaussian distribution; The overall piecewise probability function is: \n",
    "    \n",
    "    P(c) = N(u, s)\n",
    "        where, \n",
    "            s = sampling std (user defined)\n",
    "            u = distribution mean, centered at: \n",
    "                P_i(c) for 0 <= c <= t \n",
    "                P_h(c) for t <= c < max_dose\n",
    "                    where, \n",
    "                        t = transition point\n",
    "            \n",
    "    we also expect our equation to be discrete continuous (we are pulling only 7 points at discrete concentration points from these models) such that: \n",
    "        \n",
    "        P_i(t) = P_h(t)\n",
    "        \n",
    "    '''\n",
    "    \n",
    "    def __init__(self, s=0.05, b1range = (-8., 0.), mrange = (0., 0.5), b0range = (-10,0), trange=(0.001,10), dose_points = [0, 0.00001, 0.0001, 0.001, 0.01, 0.1, 1, 10]): \n",
    "            '''\n",
    "            \n",
    "            inputs \n",
    "                s <float> standard deviation for gaussian noise model \n",
    "                rrange <tuple, floats> should be negative, the allowed range of values to choose for r in the inhibitory logistic equation\n",
    "                dose_points <list> the concentration points to sample at. First value should always be zero. \n",
    "                mrange <tuple, floats> must be positive, allowed range of values to choose for m in the hermetic model \n",
    "                b0range <tuple, float> range of acceptable b0's to sample from\n",
    "                trange <tuple, float> range of transition point to sample from, neither value can be zero (sampled in logspace)\n",
    "                \n",
    "            outputs \n",
    "                object handle \n",
    "            '''\n",
    "            \n",
    "            #assert dose_points[0] == 0, 'dose_points should be a list whose first value is 0.0'\n",
    "            \n",
    "            self.s = s \n",
    "            self.b1range = b1range\n",
    "            self.mrange = mrange\n",
    "            self.b0range = b0range\n",
    "            self.trange = trange\n",
    "            self.dose_points = np.array(dose_points)\n",
    "            \n",
    "    def __generate(self, t, b1, b0, m, n=1, plot=True): \n",
    "        '''\n",
    "        generates a single set of dose response data. \n",
    "        \n",
    "        inputs\n",
    "            t <float> inhibitory -> hermetic transition point \n",
    "            b <float> negative value defining logistic equation shape \n",
    "            b0 <float> [0,1] expected to be close to 1. Naive = 1. Value defining probability at no dose. \n",
    "            m <float> linear model slope, should be positive [increasing]\n",
    "            n <int> number of curves to generate from these parameters - only variation will be noise - [placeholder currently]\n",
    "        \n",
    "        outputs \n",
    "             dr <pandas dataframe> columns with names ['t', 'b1', 'b0', 'm', 'b', *self.dose_points]\n",
    "                                                                                        |\n",
    "                                                                  _____________________/ \\____________________\n",
    "                                                                 / cell viablity values [0,1] over dose points \\\n",
    "        '''\n",
    "        \n",
    "        # solve for b such that piecewise model is equal at t\n",
    "        b = 1 / (1 + np.exp(-(b0 + b1* np.log10(t)))) - m*np.log10(t)\n",
    "        \n",
    "        # we fit our models in logspace \n",
    "        c = self.dose_points\n",
    "        \n",
    "        # inhibitory means\n",
    "        #ui = 1 / (1 + ((1/c0) - 1)*np.exp(-r*c))\n",
    "        ui = 1 / (1 + np.exp(-(b0 + b1* np.log10(c))))\n",
    "\n",
    "        # hermetic means \n",
    "        uh = np.array( [min(h, 1) for h in m*np.log10(c) + b] ) \n",
    "        #b02 = -b0 - b1*np.log10(c) + (m+2)*np.log10(c)\n",
    "        #uh = 1 / (1 + np.exp(-(b02 + (m+2)* np.log10(c))))\n",
    "        \n",
    "        dr = np.array([[np.random.normal(loc = i, scale=self.s) if c <= t else np.random.normal(loc = h, scale=self.s) for c,i,h in zip(self.dose_points, ui, uh)] for i in range(n)])\n",
    "        \n",
    "        if plot: \n",
    "            x = np.logspace(-7,np.log10(max(self.dose_points)), 100)\n",
    "            pi = 1 / (1 + np.exp(-(b0 + b1*np.log10(x))))\n",
    "            ph = np.array( [min(h, 1) for h in m*np.log10(x) + b])\n",
    "            #ph = 1 / (1 + np.exp(-(b02 + (m+2)* np.log10(x))))\n",
    "            dat = pd.DataFrame({'pi':pi, 'ph':ph, 'x':x})\n",
    "            f, ax = plt.subplots(1,1,figsize=(10,10))\n",
    "            sbn.lineplot(x='x', y='pi', label='inhib. model', data=dat, ax=ax)\n",
    "            sbn.lineplot(x='x', y='ph', label='herm. model', data=dat, ax=ax)\n",
    "            [ax.plot(self.dose_points, d, 'go', alpha= 0.5, label='sampled pts') if i==0 else ax.plot(self.dose_points, d, 'go', alpha= 0.5,) for i,d in enumerate(dr)] \n",
    "            ax.set_ylim([-0.5,1.5])\n",
    "            ax.axvline(x=t, color='red', label='transition point')\n",
    "            ax.set_xscale('log')\n",
    "            ax.set_title('t [%.2f], b1 [%.2f], b0 [%.2f], m [%.2f], b [%.2f]' %(t,b1,b0, m, b))\n",
    "            plt.legend()\n",
    "            plt.show()\n",
    "\n",
    "        return pd.DataFrame({**{'t':t, 'b1':b1, 'b0':b0, 'm':m,'b':b, 's':self.s},**{'DOSE_%.2f'%d:p for d,p in zip(self.dose_points, dr.T)}})\n",
    "    \n",
    "    \n",
    "    def get(self, n, nn=1, plot=False): \n",
    "        '''\n",
    "        function to build synthetic dataset. \n",
    "        \n",
    "        inputs \n",
    "            n <int> number of independant dose-response models to sample from\n",
    "            nn <int> number of observations from each model to return \n",
    "            \n",
    "        outputs \n",
    "             dr <pandas dataframe> columns with names ['id', t', 'b1', 'b0', 'm', 'b', *self.dose_points]\n",
    "                 [shape: (n*nn, 5 + len(self.dose_points))]                             |\n",
    "                 [id <str>: seed_time_nn]                         _____________________/ \\____________________\n",
    "                                                                 / cell viablity values [0,1] over dose points \\\n",
    "                                                                 \n",
    "        UH OH... hitting a few issues: \n",
    "\n",
    "            Need to add a min inhibitory value, I suspec that'll be important in defining curve shape. \n",
    "            [DONE] THIRD: need to make sure Ph(c=max_dose) <= 1, can't have huge numbers...Switch to using positive sigmoid for hermetic model? Kept it linear, used max of 1. \n",
    "            [DONE] FOURTH: doses are log10 distributed so transition point t should maybe be sampled with log weights as well! or ... should it? kind of explains the proportion of tail occurence... \n",
    "            [DONE] FIFTH: My logistic and linear models usually are fit in the log space, so I should really be doing the same here, right? look into that. \n",
    "        '''\n",
    "        \n",
    "        first = True\n",
    "        dat = None\n",
    "        for i in range(n): \n",
    "            if (n%1000==0): \n",
    "                print('progress: %.2f%%' %(i/n*100), end='\\r')\n",
    "            state = np.random.get_state()\n",
    "            t = np.power(10, np.random.uniform(low = np.log10(min(self.trange)), high=np.log10(max(self.trange)))) # sample uniformly in logspace between first nonzero dose point\n",
    "            b1 = np.random.uniform(low = min(self.b1range), high=max(self.b1range))\n",
    "            b0 = np.random.uniform(low = min(self.b0range), high=max(self.b0range))\n",
    "            m = np.random.uniform(low = min(self.mrange), high = max(self.mrange))\n",
    "            obs = self.__generate(t,b1,b0,m,n=nn, plot=plot).assign(id='%s_%s_%d' %(str(state[0]), str(datetime.datetime.now().time()), nn))\n",
    "            dat = obs if first else dat.append(obs, ignore_index=True)\n",
    "            if first: first = False\n",
    "            \n",
    "        return dat "
   ]
  },
  {
   "cell_type": "code",
   "execution_count": 20,
   "metadata": {
    "collapsed": false
   },
   "outputs": [
    {
     "name": "stdout",
     "output_type": "stream",
     "text": [
      "batch: 1 [noise=0.447214]\n",
      "batch: 2 [noise=0.299070]\n",
      "batch: 3 [noise=0.200000]\n",
      "batch: 4 [noise=0.133748]\n",
      "batch: 5 [noise=0.089443]\n",
      "batch: 6 [noise=0.059814]\n",
      "batch: 7 [noise=0.040000]\n",
      "batch: 8 [noise=0.026750]\n",
      "batch: 9 [noise=0.017889]\n",
      "batch: 10 [noise=0.011963]\n",
      "batch: 11 [noise=0.008000]\n",
      "batch: 12 [noise=0.005350]\n",
      "batch: 13 [noise=0.003578]\n",
      "batch: 14 [noise=0.002393]\n",
      "batch: 15 [noise=0.001600]\n",
      "batch: 16 [noise=0.001070]\n",
      "batch: 17 [noise=0.000716]\n",
      "batch: 18 [noise=0.000479]\n",
      "dataset size: (180010, 14)\n"
     ]
    }
   ],
   "source": [
    "batch_size = 10000\n",
    "\n",
    "mygen = hermetic_generator(s = 0.01, b1range=(-10, 0), mrange= (0,0.5), b0range=(-10,-6), trange=(0.001,15), dose_points = [10/(3**i) for i in range(0,7)])\n",
    "syn_data = mygen.get(n=10, nn=1, plot=False)\n",
    "\n",
    "for i, noise in enumerate([5*5**-x for x in np.arange(1.5,6, 0.25)]):\n",
    "    print('batch: %d [noise=%f]' %(i+1, noise))\n",
    "    mygen2 = hermetic_generator(s = noise, b1range=(-10, 0), mrange= (0,0.5), b0range=(-10,-6), trange=(0.001,15), dose_points = [10/(3**i) for i in range(0,7)])\n",
    "    syn_data = syn_data.append(mygen2.get(n=batch_size, nn=1, plot=False), ignore_index=True, sort=False)\n",
    "    \n",
    "syn_data.to_csv('./data/performance_analysis_set.csv')\n",
    "\n",
    "print('dataset size: %s' %str(syn_data.shape))"
   ]
  },
  {
   "cell_type": "code",
   "execution_count": null,
   "metadata": {
    "collapsed": false
   },
   "outputs": [],
   "source": [
    "syn_data.head()"
   ]
  },
  {
   "cell_type": "code",
   "execution_count": null,
   "metadata": {
    "collapsed": true
   },
   "outputs": [],
   "source": []
  },
  {
   "cell_type": "code",
   "execution_count": null,
   "metadata": {
    "collapsed": true
   },
   "outputs": [],
   "source": []
  }
 ],
 "metadata": {
  "kernelspec": {
   "display_name": "Python 3",
   "language": "python",
   "name": "python3"
  },
  "language_info": {
   "codemirror_mode": {
    "name": "ipython",
    "version": 3
   },
   "file_extension": ".py",
   "mimetype": "text/x-python",
   "name": "python",
   "nbconvert_exporter": "python",
   "pygments_lexer": "ipython3",
   "version": "3.5.6"
  }
 },
 "nbformat": 4,
 "nbformat_minor": 2
}
