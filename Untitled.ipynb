{
 "cells": [
  {
   "cell_type": "code",
   "execution_count": null,
   "metadata": {},
   "outputs": [],
   "source": [
    "%%javascript\n",
    "IPython.OutputArea.prototype._should_scroll = function(lines) {\n",
    "    return false;\n",
    "}"
   ]
  },
  {
   "cell_type": "code",
   "execution_count": null,
   "metadata": {},
   "outputs": [],
   "source": [
    "import numpy as np\n",
    "import pandas as pd\n",
    "from matplotlib import pyplot as plt\n",
    "import seaborn as sbn \n",
    "import datetime\n",
    "\n",
    "# import jtplot module in notebook\n",
    "from jupyterthemes import jtplot\n",
    "\n",
    "# choose which theme to inherit plotting style from\n",
    "# onedork | grade3 | oceans16 | chesterish | monokai | solarizedl | solarizedd\n",
    "jtplot.style(theme='onedork')\n",
    "\n",
    "# set \"context\" (paper, notebook, talk, poster)\n",
    "# scale font-size of ticklabels, legend, etc.\n",
    "# remove spines from x and y axes and make grid dashed\n",
    "jtplot.style(context='talk', fscale=1.4, spines=False, gridlines='--')\n",
    "\n",
    "# turn on X- and Y-axis tick marks (default=False)\n",
    "# turn off the axis grid lines (default=True)\n",
    "# and set the default figure size\n",
    "jtplot.style(ticks=True, grid=False, figsize=(6, 4.5))"
   ]
  },
  {
   "cell_type": "markdown",
   "metadata": {},
   "source": [
    "# Summary \n",
    "\n",
    "The purpose of this script is to generate a dataset that we can use to test the impact of replicates on AUC measurements. \n",
    "\n",
    "#### Step 1: Generate non-hermetic dataset with replicates n=1:5 \n",
    "\n",
    "#### Step 2: Calculate AUC of underlying curve \n",
    "\n",
    "#### Step 3: Fit logistic regression curve to data and calculate AUC \n",
    "\n",
    "#### Step 4: Compare error \n",
    "$$ error = AUC_{true} - AUC_{fitted} $$ \n"
   ]
  },
  {
   "cell_type": "code",
   "execution_count": null,
   "metadata": {},
   "outputs": [],
   "source": [
    "batch_size = 500\n",
    "noise = 0.3\n",
    "\n",
    "mygen1 = hermetic_generator(s = noise, b1range=(-10, 0), mrange= (0,0.5), b0range=(-10,-6), trange=(0.001,15), dose_points = [10/(3**i) for i in range(0,7)])\n",
    "syn_data1 = mygen.get(n=10000, nn=1, plot=False)\n",
    "\n",
    "mygen2 = hermetic_generator(s = noise, b1range=(-10, 0), mrange= (0,0.5), b0range=(-10,-6), trange=(0.001,15), dose_points = [10/(3**i) for i in range(0,7)])\n",
    "syn_data2 = mygen.get(n=10000, nn=2, plot=False)\n",
    "\n",
    "mygen3 = hermetic_generator(s = noise, b1range=(-10, 0), mrange= (0,0.5), b0range=(-10,-6), trange=(0.001,15), dose_points = [10/(3**i) for i in range(0,7)])\n",
    "syn_data3 = mygen.get(n=10000, nn=3, plot=False)\n",
    "\n",
    "mygen4 = hermetic_generator(s = noise, b1range=(-10, 0), mrange= (0,0.5), b0range=(-10,-6), trange=(0.001,15), dose_points = [10/(3**i) for i in range(0,7)])\n",
    "syn_data4 = mygen.get(n=10000, nn=4, plot=False)\n",
    "\n",
    "mygen5 = hermetic_generator(s = noise, b1range=(-10, 0), mrange= (0,0.5), b0range=(-10,-6), trange=(0.001,15), dose_points = [10/(3**i) for i in range(0,7)])\n",
    "syn_data5 = mygen.get(n=10000, nn=5, plot=False)\n",
    "\n",
    "repl_data = "
   ]
  },
  {
   "cell_type": "code",
   "execution_count": null,
   "metadata": {},
   "outputs": [],
   "source": []
  },
  {
   "cell_type": "code",
   "execution_count": null,
   "metadata": {},
   "outputs": [],
   "source": []
  }
 ],
 "metadata": {
  "kernelspec": {
   "display_name": "Python 3",
   "language": "python",
   "name": "python3"
  },
  "language_info": {
   "codemirror_mode": {
    "name": "ipython",
    "version": 3
   },
   "file_extension": ".py",
   "mimetype": "text/x-python",
   "name": "python",
   "nbconvert_exporter": "python",
   "pygments_lexer": "ipython3",
   "version": "3.6.5"
  }
 },
 "nbformat": 4,
 "nbformat_minor": 2
}
