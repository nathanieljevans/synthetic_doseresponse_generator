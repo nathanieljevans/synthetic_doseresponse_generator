{
 "cells": [
  {
   "cell_type": "code",
   "execution_count": 1,
   "metadata": {},
   "outputs": [],
   "source": [
    "import warnings\n",
    "warnings.filterwarnings(\"ignore\", category=FutureWarning)\n",
    "\n",
    "import numpy as np\n",
    "import pandas as pd\n",
    "from matplotlib import pyplot as plt\n",
    "import seaborn as sbn \n",
    "import datetime\n",
    "from DR_generator import *\n",
    "import statsmodels.api as sm\n",
    "from statsmodels.stats.multitest import multipletests\n",
    "import sys\n",
    "# insert at 1, 0 is the script path (or '' in REPL)\n",
    "sys.path.insert(1, 'C:\\\\Users\\\\natha\\\\Documents\\\\bayesian_dose_response\\\\python')\n",
    "import bayesian_doseresponse_analysis as bdr  "
   ]
  },
  {
   "cell_type": "code",
   "execution_count": 2,
   "metadata": {},
   "outputs": [],
   "source": [
    "def get_synth_data(batch_size=10, noise=0.15, nrepl=6, plot=False):\n",
    "    mygen1 = hermetic_generator(s = noise, b1range=(-10, -3), mrange= (0,0.5), b0range=(-7,-6), trange=(11,15), dose_points = [10/(3**i) for i in range(0,7)])\n",
    "    repl_data = mygen1.get(n=batch_size, nn=1, plot=plot)\n",
    "\n",
    "    for n in range(2,nrepl): \n",
    "        mygen = hermetic_generator(s = noise, b1range=(-10, -3), mrange= (0,0.5), b0range=(-7,-6), trange=(11,15), dose_points = [10/(3**i) for i in range(0,7)])\n",
    "        syn_data = mygen1.get(n=batch_size, nn=n, plot=plot)\n",
    "        repl_data = repl_data.append(syn_data, ignore_index=True)\n",
    "\n",
    "    repl_data.head()\n",
    "    return repl_data"
   ]
  },
  {
   "cell_type": "code",
   "execution_count": 3,
   "metadata": {},
   "outputs": [
    {
     "ename": "SyntaxError",
     "evalue": "non-default argument follows default argument (<ipython-input-3-a09b69d6f173>, line 1)",
     "output_type": "error",
     "traceback": [
      "\u001b[1;36m  File \u001b[1;32m\"<ipython-input-3-a09b69d6f173>\"\u001b[1;36m, line \u001b[1;32m1\u001b[0m\n\u001b[1;33m    def get_BDRA_data(repl_data, noise=0.15, n_controls):\u001b[0m\n\u001b[1;37m                     ^\u001b[0m\n\u001b[1;31mSyntaxError\u001b[0m\u001b[1;31m:\u001b[0m non-default argument follows default argument\n"
     ]
    }
   ],
   "source": [
    "def get_BDRA_data(repl_data, noise=0.15, n_controls=21): \n",
    "    noise = noise*100 # This should be matched to the noise we used above! but scaled to 100 for comparison to beatAML\n",
    "\n",
    "    bdr_dat = repl_data.assign(lab_id = [str(x).strip(' ') for x in repl_data[repl_data.columns[0:6]].values] )[list(repl_data.columns[6:6+7]) + ['AUC_true','AUC_synth', 'replicates', 'true_assignment', 'synth_assignment', 'lab_id']]\n",
    "    bdr_dat = bdr_dat.assign(inhibitor='sim_inhib')\n",
    "    bdr_dat.columns.values[0:0+7] = [float(x[5:]) for x in bdr_dat.columns[0:0+7]]\n",
    "    bdr_dat = bdr_dat.melt(id_vars=bdr_dat.columns[7:], value_vars=bdr_dat.columns[0:0+7], var_name='well_concentration', value_name='cell_viab')\n",
    "    bdr_dat = bdr_dat.assign(normalized_viability = lambda x: x.cell_viab * 100)\n",
    "\n",
    "    # make our controls \n",
    "    temp = {x:[] for x in ['lab_id', 'inhibitor', 'normalized_viability']}\n",
    "    for labid in bdr_dat.lab_id.unique(): \n",
    "        temp['normalized_viability'] += np.random.normal(100, noise, n_controls).tolist()\n",
    "        temp['lab_id'] += [labid]*n_controls\n",
    "        temp['inhibitor'] += ['Control']*n_controls\n",
    "\n",
    "    temp = pd.DataFrame(temp)\n",
    "\n",
    "    bdr_dat = bdr_dat.append(temp, ignore_index=True, sort=False)\n",
    "    \n",
    "    return bdr_dat"
   ]
  },
  {
   "cell_type": "code",
   "execution_count": null,
   "metadata": {},
   "outputs": [],
   "source": [
    "def logistic_AUC(b0, b1, lower=10/3**6, upper=10, delta=0.001): \n",
    "    '''\n",
    "    integrating the logistic equation, we calculate the closeform solution to get AUC from min conc (lower) to max conc (upper) given a pair of parameters. \n",
    "    \n",
    "    P_i(c) =   1/(1+exp(-(b0 + b1*c)))\n",
    "        where, \n",
    "            c = concentration \n",
    "            b0 = intercept param. \n",
    "            b1 = slope param.\n",
    "    '''\n",
    "    #logit = lambda x: 1/(1 + np.exp(-(b0 + b1*x)))\n",
    "    #x = np.arange(lower, upper, delta)\n",
    "    \n",
    "    AUC = 0\n",
    "    for x in np.arange(np.log10(lower), np.log10(upper), delta): AUC += (1/(1 + np.exp(-(b0 + b1*(x)))))*delta\n",
    "    #AUC = np.sum(logit(x)*delta)\n",
    "    #AUC = (upper - np.log(np.exp(b1*upper-b0) + 1)/b1) - (lower - np.log(np.exp(b1*lower-b0) + 1)/b1)\n",
    "    return AUC "
   ]
  },
  {
   "cell_type": "code",
   "execution_count": null,
   "metadata": {},
   "outputs": [],
   "source": [
    "def calc_AUC_from_replicates(D, conc = [10/(3**i) for i in range(0,7)]): \n",
    "    '''\n",
    "    1. Fit logistic equation \n",
    "    2. Calculate AUC \n",
    "    3. return AUC \n",
    "    \n",
    "    D <data.frame> \n",
    "        Expects (repl, 7), with decreasing dose\n",
    "    '''\n",
    "    # AVG POINTS BEFORE APPLYING CEILING, otherwise, truncation will lead to underfitting \n",
    "    D = np.mean(D, axis=0).reshape(1,7) if D.shape[0] > 1 else D\n",
    "    D = pd.DataFrame(D).rename({x:y for x,y in enumerate(conc)}, axis=1)\n",
    "    D = pd.melt(D, var_name='conc', value_name='cell_viab')\n",
    "    x = sm.add_constant(np.log10(D['conc'].values))\n",
    "    \n",
    "    y = np.array([max(min(x, 1), 0) for x in D['cell_viab'].values])\n",
    "\n",
    "    \n",
    "    try: \n",
    "        pr = sm.GLM(y, x, family=sm.families.Binomial(link=sm.families.links.logit()))\n",
    "        res = pr.fit(disp=False)\n",
    "    except: \n",
    "        #raise\n",
    "        return None, (None, None) \n",
    "    \n",
    "    return logistic_AUC(*res.params), res.params\n",
    "    "
   ]
  },
  {
   "cell_type": "code",
   "execution_count": null,
   "metadata": {},
   "outputs": [],
   "source": [
    "key = ['t','b1','b0','m','b','s']\n",
    "uniq = repl_data[key].drop_duplicates()\n",
    "\n",
    "res = {x:[] for x in key + ['AUC_synth', 'replicates',  'b0_synth', 'b1_synth']}\n",
    "for i,row in enumerate(uniq.values):\n",
    "    print(f'fitting regressions [{np.round(100*i/uniq.shape[0], 2)}%]', end='\\r')\n",
    "    assay = repl_data[ [np.all(x == row) for x in repl_data[key].values] ] \n",
    "    replicates = assay.shape[0]\n",
    "    D = assay.values[:,6:(6+7)]\n",
    "    AUC, (b0, b1) = calc_AUC_from_replicates(D)\n",
    "    [res[x].append(y) for x,y in zip(key + ['AUC_synth', 'replicates', 'b0_synth', 'b1_synth'], list(row) + [AUC, replicates,b0,b1])]\n",
    "\n",
    "repl_data = pd.merge(repl_data, pd.DataFrame(res), on=key, how='left')\n",
    "\n",
    "repl_data = repl_data.assign(se = lambda x: (x.AUC_true - x.AUC_synth)**2)\n",
    "repl_data.head()"
   ]
  },
  {
   "cell_type": "code",
   "execution_count": null,
   "metadata": {},
   "outputs": [],
   "source": []
  },
  {
   "cell_type": "code",
   "execution_count": null,
   "metadata": {},
   "outputs": [],
   "source": []
  },
  {
   "cell_type": "code",
   "execution_count": null,
   "metadata": {},
   "outputs": [],
   "source": []
  }
 ],
 "metadata": {
  "kernelspec": {
   "display_name": "Python 3",
   "language": "python",
   "name": "python3"
  },
  "language_info": {
   "codemirror_mode": {
    "name": "ipython",
    "version": 3
   },
   "file_extension": ".py",
   "mimetype": "text/x-python",
   "name": "python",
   "nbconvert_exporter": "python",
   "pygments_lexer": "ipython3",
   "version": "3.6.5"
  }
 },
 "nbformat": 4,
 "nbformat_minor": 2
}
